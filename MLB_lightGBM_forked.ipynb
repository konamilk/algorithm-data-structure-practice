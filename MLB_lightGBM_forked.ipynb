{
  "nbformat": 4,
  "nbformat_minor": 0,
  "metadata": {
    "colab": {
      "name": "MLB_lightGBM_forked.ipynb",
      "provenance": [],
      "collapsed_sections": [],
      "machine_shape": "hm",
      "include_colab_link": true
    },
    "kernelspec": {
      "display_name": "Python 3",
      "language": "python",
      "name": "python3"
    },
    "language_info": {
      "codemirror_mode": {
        "name": "ipython",
        "version": 3
      },
      "file_extension": ".py",
      "mimetype": "text/x-python",
      "name": "python",
      "nbconvert_exporter": "python",
      "pygments_lexer": "ipython3",
      "version": "3.7.10"
    }
  },
  "cells": [
    {
      "cell_type": "markdown",
      "metadata": {
        "id": "view-in-github",
        "colab_type": "text"
      },
      "source": [
        "<a href=\"https://colab.research.google.com/github/konamilk/algorithm-data-structure-practice/blob/main/MLB_lightGBM_forked.ipynb\" target=\"_parent\"><img src=\"https://colab.research.google.com/assets/colab-badge.svg\" alt=\"Open In Colab\"/></a>"
      ]
    },
    {
      "cell_type": "markdown",
      "metadata": {
        "id": "OjpB9kt47C8C"
      },
      "source": [
        "## Training"
      ]
    },
    {
      "cell_type": "code",
      "metadata": {
        "id": "2cAGsiMZ-lvU"
      },
      "source": [
        "import sys\n",
        "from pathlib import Path"
      ],
      "execution_count": 1,
      "outputs": []
    },
    {
      "cell_type": "code",
      "metadata": {
        "id": "XbX3D80_8fWH"
      },
      "source": [
        "# # Install_LightGBM_with_GPU\n",
        "# if 'google.colab' in sys.modules:\n",
        "#     ! git clone --recursive https://github.com/Microsoft/LightGBM\n",
        "\n",
        "#     %cd /content/LightGBM\n",
        "#     ! mkdir -p build\n",
        "\n",
        "#     %cd build\n",
        "#     ! cmake -DUSE_GPU=1 /content/LightGBM\n",
        "#     ! make -j$(nproc)\n",
        "#     ! sudo apt-get -y install python-pip\n",
        "#     ! sudo -H pip install setuptools pandas numpy scipy scikit-learn -U\n",
        "\n",
        "#     %cd /content/LightGBM/python-package\n",
        "#     ! sudo python setup.py install --precompile\n",
        "\n",
        "#     %cd /content/"
      ],
      "execution_count": 2,
      "outputs": []
    },
    {
      "cell_type": "code",
      "metadata": {
        "id": "QAyMxdEr7C8C"
      },
      "source": [
        "import numpy as np\n",
        "import pandas as pd\n",
        "pd.set_option('display.max_columns', 100)\n",
        "from pathlib import Path\n",
        "from sklearn.metrics import mean_absolute_error\n",
        "from datetime import timedelta\n",
        "from functools import reduce\n",
        "from tqdm import tqdm\n",
        "import lightgbm as lgbm\n",
        "import datetime\n",
        "import gc\n",
        "# if 'google.colab' in sys.modules:\n",
        "#     !pip install git+https://github.com/pfnet-research/xfeat.git > /dev/null\n",
        "# else:\n",
        "#     !pip install ../input/xfeatwhl/xfeat-0.1.1-py3-none-any.whl > /dev/null"
      ],
      "execution_count": 3,
      "outputs": []
    },
    {
      "cell_type": "code",
      "metadata": {
        "id": "3JarsAv27l67",
        "colab": {
          "base_uri": "https://localhost:8080/"
        },
        "outputId": "932b213c-6a13-4fbe-d969-0c3b9da117f8"
      },
      "source": [
        "if 'google.colab' in sys.modules:\n",
        "    from google.colab import drive\n",
        "    drive.mount('/content/drive')\n",
        "    BASE_DIR = Path('/content/input/mlb-player-digital-engagement-forecasting')\n",
        "    TRAIN_DIR = Path('/content/input/mlb-pdef-train-dataset')\n",
        "    !mkdir output\n",
        "    OUTPUT_DIR = Path('/content/output')\n",
        "elif 'kaggle_web_client' in sys.modules:\n",
        "    BASE_DIR = Path('../input/mlb-player-digital-engagement-forecasting')\n",
        "    TRAIN_DIR = Path('../input/mlb-pdef-train-dataset')\n",
        "    OUTPUT_DIR = Path('/kaggle/working')"
      ],
      "execution_count": 4,
      "outputs": [
        {
          "output_type": "stream",
          "text": [
            "Drive already mounted at /content/drive; to attempt to forcibly remount, call drive.mount(\"/content/drive\", force_remount=True).\n",
            "mkdir: cannot create directory ‘output’: File exists\n"
          ],
          "name": "stdout"
        }
      ]
    },
    {
      "cell_type": "code",
      "metadata": {
        "colab": {
          "base_uri": "https://localhost:8080/"
        },
        "id": "njAMCtlm8Ewr",
        "outputId": "a666c0f4-dd04-40aa-cd81-1862e0fbdf5c"
      },
      "source": [
        "if 'google.colab' in sys.modules:\n",
        "    !mkdir ~/.kaggle\n",
        "    !cp /content/drive/MyDrive/.kaggle/kaggle.json ~/.kaggle\n",
        "    !chmod 600 ~/.kaggle/kaggle.json\n",
        "    !pip install kaggle > /dev/null\n",
        "    !mkdir input\n",
        "    # original datasets\n",
        "    !kaggle competitions download -c mlb-player-digital-engagement-forecasting  > /dev/null\n",
        "    !mkdir input/mlb-player-digital-engagement-forecasting\n",
        "    !unzip -o '*.zip' -d ./input/mlb-player-digital-engagement-forecasting  > /dev/null\n",
        "    !mv *.csv ./input/mlb-player-digital-engagement-forecasting\n",
        "    !rm *.zip\n",
        "    # MLB_PDEF_train_dataset\n",
        "    !kaggle datasets download -d columbia2131/mlb-pdef-train-dataset  > /dev/null\n",
        "    !mkdir input/mlb-pdef-train-dataset\n",
        "    !unzip -o '*.zip' -d ./input/mlb-pdef-train-dataset  > /dev/null\n",
        "    !rm *.zip"
      ],
      "execution_count": 5,
      "outputs": [
        {
          "output_type": "stream",
          "text": [
            "mkdir: cannot create directory ‘/root/.kaggle’: File exists\n",
            "mkdir: cannot create directory ‘input’: File exists\n",
            "100% 173k/173k [00:00<00:00, 27.9MB/s]\n",
            "100% 470M/470M [00:09<00:00, 49.5MB/s]\n",
            "100% 3.68k/3.68k [00:00<00:00, 3.85MB/s]\n",
            "100% 824/824 [00:00<00:00, 850kB/s]\n",
            "100% 3.96M/3.96M [00:00<00:00, 64.4MB/s]\n",
            "100% 191k/191k [00:00<00:00, 61.3MB/s]\n",
            "100% 820k/820k [00:00<00:00, 26.2MB/s]\n",
            "mkdir: cannot create directory ‘input/mlb-player-digital-engagement-forecasting’: File exists\n",
            "\n",
            "2 archives were successfully processed.\n",
            "100% 522M/522M [00:12<00:00, 44.2MB/s]\n",
            "mkdir: cannot create directory ‘input/mlb-pdef-train-dataset’: File exists\n"
          ],
          "name": "stdout"
        }
      ]
    },
    {
      "cell_type": "code",
      "metadata": {
        "id": "QRn-w2Xh7C8F"
      },
      "source": [
        "targets_cols = ['playerId', 'target1', 'target2', 'target3', 'target4', 'date']\n",
        "players_cols = ['playerId', 'primaryPositionName', 'DOB']\n",
        "rosters_cols = ['playerId', 'teamId', 'status', 'date']\n",
        "scores_cols = ['playerId', 'battingOrder', 'gamesPlayedBatting', 'flyOuts',\n",
        "       'groundOuts', 'runsScored', 'doubles', 'triples', 'homeRuns',\n",
        "       'strikeOuts', 'baseOnBalls', 'intentionalWalks', 'hits', 'hitByPitch',\n",
        "       'atBats', 'caughtStealing', 'stolenBases', 'groundIntoDoublePlay',\n",
        "       'groundIntoTriplePlay', 'plateAppearances', 'totalBases', 'rbi',\n",
        "       'leftOnBase', 'sacBunts', 'sacFlies', 'catchersInterference',\n",
        "       'pickoffs', 'gamesPlayedPitching', 'gamesStartedPitching',\n",
        "       'completeGamesPitching', 'shutoutsPitching', 'winsPitching',\n",
        "       'lossesPitching', 'flyOutsPitching', 'airOutsPitching',\n",
        "       'groundOutsPitching', 'runsPitching', 'doublesPitching',\n",
        "       'triplesPitching', 'homeRunsPitching', 'strikeOutsPitching',\n",
        "       'baseOnBallsPitching', 'intentionalWalksPitching', 'hitsPitching',\n",
        "       'hitByPitchPitching', 'atBatsPitching', 'caughtStealingPitching',\n",
        "       'stolenBasesPitching', 'inningsPitched', 'saveOpportunities',\n",
        "       'earnedRuns', 'battersFaced', 'outsPitching', 'pitchesThrown', 'balls',\n",
        "       'strikes', 'hitBatsmen', 'balks', 'wildPitches', 'pickoffsPitching',\n",
        "       'rbiPitching', 'gamesFinishedPitching', 'inheritedRunners',\n",
        "       'inheritedRunnersScored', 'catchersInterferencePitching',\n",
        "       'sacBuntsPitching', 'sacFliesPitching', 'saves', 'holds', 'blownSaves',\n",
        "       'assists', 'putOuts', 'errors', 'chances', 'date']\n",
        "\n",
        "standings_cols = ['divisionId', 'teamId', 'streakCode', 'divisionRank', 'leagueRank',\n",
        "       'wildCardRank', 'leagueGamesBack', 'sportGamesBack',\n",
        "       'divisionGamesBack', 'wins', 'losses', 'pct', 'runsAllowed',\n",
        "       #'runsScored',\n",
        "       'divisionChamp', 'divisionLeader', 'wildCardLeader',\n",
        "       'eliminationNumber', 'wildCardEliminationNumber', 'homeWins',\n",
        "       'homeLosses', 'awayWins', 'awayLosses', 'lastTenWins', 'lastTenLosses',\n",
        "       'extraInningWins', 'extraInningLosses', 'oneRunWins', 'oneRunLosses',\n",
        "       'dayWins', 'dayLosses', 'nightWins', 'nightLosses', 'grassWins',\n",
        "       'grassLosses', 'turfWins', 'turfLosses', 'divWins', 'divLosses',\n",
        "       'alWins', 'alLosses', 'nlWins', 'nlLosses', 'xWinLossPct']\n",
        "\n",
        "awards_cols = ['awardId', 'playerId']\n",
        "\n",
        "feature_cols = ['label_playerId', 'label_primaryPositionName', 'label_teamId',\n",
        "       'label_status', 'battingOrder', 'gamesPlayedBatting', 'flyOuts',\n",
        "       'groundOuts', 'runsScored', 'doubles', 'triples', 'homeRuns',\n",
        "       'strikeOuts', 'baseOnBalls', 'intentionalWalks', 'hits', 'hitByPitch',\n",
        "       'atBats', 'caughtStealing', 'stolenBases', 'groundIntoDoublePlay',\n",
        "       'groundIntoTriplePlay', 'plateAppearances', 'totalBases', 'rbi',\n",
        "       'leftOnBase', 'sacBunts', 'sacFlies', 'catchersInterference',\n",
        "       'pickoffs', 'gamesPlayedPitching', 'gamesStartedPitching',\n",
        "       'completeGamesPitching', 'shutoutsPitching', 'winsPitching',\n",
        "       'lossesPitching', 'flyOutsPitching', 'airOutsPitching',\n",
        "       'groundOutsPitching', 'runsPitching', 'doublesPitching',\n",
        "       'triplesPitching', 'homeRunsPitching', 'strikeOutsPitching',\n",
        "       'baseOnBallsPitching', 'intentionalWalksPitching', 'hitsPitching',\n",
        "       'hitByPitchPitching', 'atBatsPitching', 'caughtStealingPitching',\n",
        "       'stolenBasesPitching', 'inningsPitched', 'saveOpportunities',\n",
        "       'earnedRuns', 'battersFaced', 'outsPitching', 'pitchesThrown', 'balls',\n",
        "       'strikes', 'hitBatsmen', 'balks', 'wildPitches', 'pickoffsPitching',\n",
        "       'rbiPitching', 'gamesFinishedPitching', 'inheritedRunners',\n",
        "       'inheritedRunnersScored', 'catchersInterferencePitching',\n",
        "       'sacBuntsPitching', 'sacFliesPitching', 'saves', 'holds', 'blownSaves',\n",
        "       'assists', 'putOuts', 'errors', 'chances',\n",
        "       'isBirthday', 'playerFollowers', 'teamFollowers',\n",
        "\n",
        "    # from seasons\n",
        "       'preSeason', 'regularSeason', '1stHalf', '2ndHalf', 'allStar', 'postSeason',\n",
        "\n",
        "    # from standings\n",
        "       'divisionId', 'label_streakCode', 'divisionRank', 'leagueRank',\n",
        "       'wildCardRank', 'leagueGamesBack', 'sportGamesBack',\n",
        "       'divisionGamesBack', 'wins', 'losses', 'pct', 'runsAllowed',\n",
        "       'divisionChamp', 'divisionLeader', 'wildCardLeader',\n",
        "       'eliminationNumber', 'wildCardEliminationNumber', 'homeWins',\n",
        "       'homeLosses', 'awayWins', 'awayLosses', 'lastTenWins', 'lastTenLosses',\n",
        "       'extraInningWins', 'extraInningLosses', 'oneRunWins', 'oneRunLosses',\n",
        "       'dayWins', 'dayLosses', 'nightWins', 'nightLosses', 'grassWins',\n",
        "       'grassLosses', 'turfWins', 'turfLosses', 'divWins', 'divLosses',\n",
        "       'alWins', 'alLosses', 'nlWins', 'nlLosses', 'xWinLossPct',\n",
        "    # from awards\n",
        "       'label_awardId'\n",
        "       ]\n",
        "\n",
        "# feature_cols = ['homeLosses', 'divWins', 'allStar', 'lastTenWins', 'losses',\n",
        "#        'eliminationNumber', 'regularSeason', 'alWins', 'postSeason',\n",
        "#        'alLosses', 'errors', 'wildCardEliminationNumber',\n",
        "#        'saveOpportunities', 'oneRunWins', 'label_primaryPositionName',\n",
        "#        'assists', 'inningsPitched', '1stHalf', 'chances', 'pitchesThrown',\n",
        "#        'saves', 'playerFollowers', 'preSeason', 'nightLosses',\n",
        "#        'extraInningLosses', 'xWinLossPct', 'turfLosses', 'homeWins',\n",
        "#        'pct', 'dayWins', 'divLosses', 'label_streakCode',\n",
        "#        'strikeOutsPitching', 'dayLosses', 'label_playerId', '2ndHalf',\n",
        "#        'divisionId', 'lastTenLosses', 'isBirthday', 'leagueRank',\n",
        "#        'runsAllowed', 'awayWins', 'grassLosses', 'nightWins', 'hits',\n",
        "#        'oneRunLosses', 'plateAppearances', 'awayLosses', 'homeRuns',\n",
        "#        'putOuts', 'leagueGamesBack', 'grassWins', 'gamesStartedPitching',\n",
        "#        'divisionRank', 'teamFollowers', 'wins', 'nlWins', 'totalBases',\n",
        "#        'wildCardRank', 'nlLosses', 'battingOrder', 'runsPitching', 'rbi',\n",
        "#        'divisionGamesBack', 'inheritedRunners', 'turfWins',\n",
        "#        'label_teamId', 'extraInningWins', 'label_status']"
      ],
      "execution_count": 6,
      "outputs": []
    },
    {
      "cell_type": "code",
      "metadata": {
        "id": "77AMUlSd7C8D"
      },
      "source": [
        "players = pd.read_csv(BASE_DIR / 'players.csv')\n",
        "rosters = pd.read_pickle(TRAIN_DIR / 'rosters_train.pkl')\n",
        "targets = pd.read_pickle(TRAIN_DIR / 'nextDayPlayerEngagement_train.pkl')\n",
        "scores = pd.read_pickle(TRAIN_DIR / 'playerBoxScores_train.pkl')\n",
        "scores = scores.groupby(['playerId', 'date']).sum().reset_index()"
      ],
      "execution_count": 7,
      "outputs": []
    },
    {
      "cell_type": "code",
      "metadata": {
        "id": "fqM-dvUIuk3Q"
      },
      "source": [
        "playerFollowers = pd.read_pickle(TRAIN_DIR/'playerTwitterFollowers_train.pkl').drop(['index'], axis=1)\n",
        "playerFollowers = playerFollowers[playerFollowers['date'] != 20210401]\n",
        "teamFollowers = pd.read_pickle(TRAIN_DIR/'teamTwitterFollowers_train.pkl').drop(['index'], axis=1)\n",
        "teamFollowers = teamFollowers[teamFollowers['date'] != 20210401]"
      ],
      "execution_count": 8,
      "outputs": []
    },
    {
      "cell_type": "code",
      "metadata": {
        "id": "SWaOk6huzpXR"
      },
      "source": [
        "seasons = pd.read_csv(BASE_DIR / 'seasons.csv')\n",
        "for col in seasons.columns:\n",
        "    if col == 'seasonId':\n",
        "        continue\n",
        "    seasons[col] = pd.to_datetime(seasons[col])"
      ],
      "execution_count": 9,
      "outputs": []
    },
    {
      "cell_type": "code",
      "metadata": {
        "id": "k82pn4ED02lv"
      },
      "source": [
        "standings = pd.read_pickle(TRAIN_DIR / 'standings_train.pkl').drop(['index'], axis=1)\n",
        "standings['pct'] = standings['pct'].astype(float)\n",
        "standings['wildCardLeader'] = standings['wildCardLeader'].map(lambda x: x == 'True')\n",
        "standings['eliminationNumber'] = pd.to_numeric(standings['eliminationNumber'], errors='coerce')\n",
        "standings['wildCardEliminationNumber'] = pd.to_numeric(standings['wildCardEliminationNumber'], errors='coerce')\n",
        "standings['divisionRank'] = pd.to_numeric(standings['divisionRank'], errors='coerce')\n",
        "standings['leagueRank'] = pd.to_numeric(standings['leagueRank'], errors='coerce')\n",
        "standings['wildCardRank'] = pd.to_numeric(standings['wildCardRank'], errors='coerce')\n",
        "standings['leagueGamesBack'] = pd.to_numeric(standings['leagueGamesBack'], errors='coerce')\n",
        "standings['sportGamesBack'] = pd.to_numeric(standings['sportGamesBack'], errors='coerce')\n",
        "standings['divisionGamesBack'] = pd.to_numeric(standings['divisionGamesBack'], errors='coerce')\n",
        "standings['divisionChamp'] =  standings['divisionChamp'].map(lambda x: 1 if x else 0)\n",
        "standings['divisionLeader'] = standings['divisionLeader'].map(lambda x: 1 if x else 0)\n",
        "standings['wildCardLeader'] = standings['wildCardLeader'].map(lambda x: 1 if x else 0)\n",
        "standings = standings[standings['date'] < 20210401]"
      ],
      "execution_count": 10,
      "outputs": []
    },
    {
      "cell_type": "code",
      "metadata": {
        "id": "48wa6uXiS_lU",
        "colab": {
          "base_uri": "https://localhost:8080/",
          "height": 419
        },
        "outputId": "d8b177de-000e-40c8-b749-80ed79ee2585"
      },
      "source": [
        "awards = pd.read_pickle(TRAIN_DIR / 'awards_train.pkl').drop('index', axis=1)\n",
        "awards = awards[awards['date'] < 20210401]"
      ],
      "execution_count": 12,
      "outputs": [
        {
          "output_type": "execute_result",
          "data": {
            "text/html": [
              "<div>\n",
              "<style scoped>\n",
              "    .dataframe tbody tr th:only-of-type {\n",
              "        vertical-align: middle;\n",
              "    }\n",
              "\n",
              "    .dataframe tbody tr th {\n",
              "        vertical-align: top;\n",
              "    }\n",
              "\n",
              "    .dataframe thead th {\n",
              "        text-align: right;\n",
              "    }\n",
              "</style>\n",
              "<table border=\"1\" class=\"dataframe\">\n",
              "  <thead>\n",
              "    <tr style=\"text-align: right;\">\n",
              "      <th></th>\n",
              "      <th>awardId</th>\n",
              "      <th>awardName</th>\n",
              "      <th>awardDate</th>\n",
              "      <th>awardSeason</th>\n",
              "      <th>playerId</th>\n",
              "      <th>playerName</th>\n",
              "      <th>awardPlayerTeamId</th>\n",
              "      <th>date</th>\n",
              "    </tr>\n",
              "  </thead>\n",
              "  <tbody>\n",
              "    <tr>\n",
              "      <th>0</th>\n",
              "      <td>VWLCPOY</td>\n",
              "      <td>VWL Comeback Player of the Year</td>\n",
              "      <td>2018-01-15</td>\n",
              "      <td>2017</td>\n",
              "      <td>150119</td>\n",
              "      <td>Freddy Garcia</td>\n",
              "      <td>699.0</td>\n",
              "      <td>20180115</td>\n",
              "    </tr>\n",
              "    <tr>\n",
              "      <th>1</th>\n",
              "      <td>VWLPOY</td>\n",
              "      <td>VWL Pitcher of the Year</td>\n",
              "      <td>2018-01-15</td>\n",
              "      <td>2017</td>\n",
              "      <td>446861</td>\n",
              "      <td>Guillermo Moscoso</td>\n",
              "      <td>699.0</td>\n",
              "      <td>20180115</td>\n",
              "    </tr>\n",
              "    <tr>\n",
              "      <th>2</th>\n",
              "      <td>VWLMOY</td>\n",
              "      <td>VWL Manager of the Year</td>\n",
              "      <td>2018-01-15</td>\n",
              "      <td>2017</td>\n",
              "      <td>492527</td>\n",
              "      <td>Mike Rojas</td>\n",
              "      <td>695.0</td>\n",
              "      <td>20180115</td>\n",
              "    </tr>\n",
              "    <tr>\n",
              "      <th>3</th>\n",
              "      <td>VWLRLOY</td>\n",
              "      <td>VWL Reliever of the Year</td>\n",
              "      <td>2018-01-15</td>\n",
              "      <td>2017</td>\n",
              "      <td>519246</td>\n",
              "      <td>Andres Santiago</td>\n",
              "      <td>694.0</td>\n",
              "      <td>20180115</td>\n",
              "    </tr>\n",
              "    <tr>\n",
              "      <th>4</th>\n",
              "      <td>VWLOPOY</td>\n",
              "      <td>VWL Offensive Player of the Year</td>\n",
              "      <td>2018-01-15</td>\n",
              "      <td>2017</td>\n",
              "      <td>543874</td>\n",
              "      <td>Jose Vargas</td>\n",
              "      <td>699.0</td>\n",
              "      <td>20180115</td>\n",
              "    </tr>\n",
              "    <tr>\n",
              "      <th>...</th>\n",
              "      <td>...</td>\n",
              "      <td>...</td>\n",
              "      <td>...</td>\n",
              "      <td>...</td>\n",
              "      <td>...</td>\n",
              "      <td>...</td>\n",
              "      <td>...</td>\n",
              "      <td>...</td>\n",
              "    </tr>\n",
              "    <tr>\n",
              "      <th>5889</th>\n",
              "      <td>CSAS</td>\n",
              "      <td>Caribbean Series All-Star</td>\n",
              "      <td>2021-02-06</td>\n",
              "      <td>2021</td>\n",
              "      <td>477399</td>\n",
              "      <td>Jesse Castillo</td>\n",
              "      <td>1192.0</td>\n",
              "      <td>20210206</td>\n",
              "    </tr>\n",
              "    <tr>\n",
              "      <th>5890</th>\n",
              "      <td>CSAS</td>\n",
              "      <td>Caribbean Series All-Star</td>\n",
              "      <td>2021-02-06</td>\n",
              "      <td>2021</td>\n",
              "      <td>501571</td>\n",
              "      <td>Juan Lagares</td>\n",
              "      <td>1191.0</td>\n",
              "      <td>20210206</td>\n",
              "    </tr>\n",
              "    <tr>\n",
              "      <th>5891</th>\n",
              "      <td>CSAS</td>\n",
              "      <td>Caribbean Series All-Star</td>\n",
              "      <td>2021-02-06</td>\n",
              "      <td>2021</td>\n",
              "      <td>471822</td>\n",
              "      <td>Jumbo Diaz</td>\n",
              "      <td>1191.0</td>\n",
              "      <td>20210206</td>\n",
              "    </tr>\n",
              "    <tr>\n",
              "      <th>5892</th>\n",
              "      <td>CSAS</td>\n",
              "      <td>Caribbean Series All-Star</td>\n",
              "      <td>2021-02-06</td>\n",
              "      <td>2021</td>\n",
              "      <td>466320</td>\n",
              "      <td>Melky Cabrera</td>\n",
              "      <td>1191.0</td>\n",
              "      <td>20210206</td>\n",
              "    </tr>\n",
              "    <tr>\n",
              "      <th>5893</th>\n",
              "      <td>CSMVP</td>\n",
              "      <td>Caribbean Series MVP</td>\n",
              "      <td>2021-02-06</td>\n",
              "      <td>2021</td>\n",
              "      <td>501571</td>\n",
              "      <td>Juan Lagares</td>\n",
              "      <td>1191.0</td>\n",
              "      <td>20210206</td>\n",
              "    </tr>\n",
              "  </tbody>\n",
              "</table>\n",
              "<p>5894 rows × 8 columns</p>\n",
              "</div>"
            ],
            "text/plain": [
              "      awardId                         awardName   awardDate  awardSeason  \\\n",
              "0     VWLCPOY   VWL Comeback Player of the Year  2018-01-15         2017   \n",
              "1      VWLPOY           VWL Pitcher of the Year  2018-01-15         2017   \n",
              "2      VWLMOY           VWL Manager of the Year  2018-01-15         2017   \n",
              "3     VWLRLOY          VWL Reliever of the Year  2018-01-15         2017   \n",
              "4     VWLOPOY  VWL Offensive Player of the Year  2018-01-15         2017   \n",
              "...       ...                               ...         ...          ...   \n",
              "5889     CSAS         Caribbean Series All-Star  2021-02-06         2021   \n",
              "5890     CSAS         Caribbean Series All-Star  2021-02-06         2021   \n",
              "5891     CSAS         Caribbean Series All-Star  2021-02-06         2021   \n",
              "5892     CSAS         Caribbean Series All-Star  2021-02-06         2021   \n",
              "5893    CSMVP              Caribbean Series MVP  2021-02-06         2021   \n",
              "\n",
              "      playerId         playerName  awardPlayerTeamId      date  \n",
              "0       150119      Freddy Garcia              699.0  20180115  \n",
              "1       446861  Guillermo Moscoso              699.0  20180115  \n",
              "2       492527         Mike Rojas              695.0  20180115  \n",
              "3       519246    Andres Santiago              694.0  20180115  \n",
              "4       543874        Jose Vargas              699.0  20180115  \n",
              "...        ...                ...                ...       ...  \n",
              "5889    477399     Jesse Castillo             1192.0  20210206  \n",
              "5890    501571       Juan Lagares             1191.0  20210206  \n",
              "5891    471822         Jumbo Diaz             1191.0  20210206  \n",
              "5892    466320      Melky Cabrera             1191.0  20210206  \n",
              "5893    501571       Juan Lagares             1191.0  20210206  \n",
              "\n",
              "[5894 rows x 8 columns]"
            ]
          },
          "metadata": {
            "tags": []
          },
          "execution_count": 12
        }
      ]
    },
    {
      "cell_type": "code",
      "metadata": {
        "id": "174e_AG9Szsx"
      },
      "source": [
        ""
      ],
      "execution_count": 11,
      "outputs": []
    },
    {
      "cell_type": "code",
      "metadata": {
        "id": "lC9XB2Bj7C8H"
      },
      "source": [
        "# creat dataset\n",
        "train = targets[targets_cols].merge(players[players_cols], on=['playerId'], how='left')\n",
        "train = train.merge(rosters[rosters_cols], on=['playerId', 'date'], how='left')\n",
        "train = train.merge(scores[scores_cols], on=['playerId', 'date'], how='left')\n",
        "\n",
        "train['_date'] = pd.to_datetime(train['date'].astype(str))\n",
        "train['year'] = train['_date'].dt.year\n",
        "train['month'] = train['_date'].dt.month\n",
        "train['day'] = train['_date'].dt.day\n",
        "train['dayofweek'] = train['_date'].dt.dayofweek\n",
        "\n",
        "# merge followers\n",
        "train['_date_ym'] = train['date'] // 100\n",
        "playerFollowers['_date_ym'] = playerFollowers['date'] // 100\n",
        "playerFollowers['playerFollowers'] = playerFollowers['numberOfFollowers']\n",
        "train = train.merge(playerFollowers[['playerId', '_date_ym', 'playerFollowers']], on=['playerId', '_date_ym'], how='left')\n",
        "playerFollowers.drop(['_date_ym', 'playerFollowers'], axis=1, inplace=True)\n",
        "\n",
        "teamFollowers['_date_ym'] = teamFollowers['date'] // 100\n",
        "teamFollowers['teamFollowers'] = teamFollowers['numberOfFollowers']\n",
        "train = train.merge(teamFollowers[['teamId', '_date_ym', 'teamFollowers']], on=['teamId', '_date_ym'], how='left')\n",
        "teamFollowers.drop(['_date_ym', 'teamFollowers'], axis=1, inplace=True)\n",
        "train.drop('_date_ym', axis=1, inplace=True)\n",
        "\n",
        "# merge season\n",
        "train['preSeason'] = False\n",
        "train['regularSeason'] = False\n",
        "train['1stHalf'] = False\n",
        "train['2ndHalf'] = False\n",
        "train['allStar'] = False\n",
        "train['postSeason'] = False\n",
        "for _, row in seasons.iterrows():\n",
        "    train['preSeason'] = train['preSeason'] | ((row['preSeasonStartDate'] <=  train['_date']) & (train['_date'] <= row['preSeasonEndDate']))\n",
        "    train['regularSeason'] = train['regularSeason'] | ((row['regularSeasonStartDate'] <=  train['_date']) & (train['_date'] <= row['regularSeasonEndDate']))\n",
        "    train['1stHalf'] = train['1stHalf'] | ((row['regularSeasonStartDate'] <=  train['_date']) & (train['_date'] <= row['lastDate1stHalf']))\n",
        "    train['2ndHalf'] = train['2ndHalf'] | ((row['firstDate2ndHalf'] <=  train['_date']) & (train['_date'] <= row['regularSeasonEndDate']))\n",
        "    train['allStar'] = train['allStar'] | (row['allStarDate'] ==  train['_date'])\n",
        "    train['postSeason'] = train['postSeason'] | ((row['postSeasonStartDate'] <=  train['_date']) & (train['_date'] <= row['postSeasonEndDate']))\n",
        "\n",
        "# merge standings\n",
        "_standings = standings[standings_cols].copy()\n",
        "_standings['_date'] = pd.to_datetime(standings['date'].astype(str))\n",
        "train = train.merge(_standings, on=['teamId', '_date'], how='left')\n",
        "del _standings\n",
        "\n",
        "# merge awards\n",
        "_awards = awards[awards_cols].copy()\n",
        "_awards['_date'] = pd.to_datetime(awards['date'].astype(str))\n",
        "train = train.merge(_awards, on=['playerId', '_date'], how='left')\n",
        "del _awards\n",
        "\n",
        "# label encoding\n",
        "player2num = {c: i for i, c in enumerate(train['playerId'].unique())}\n",
        "position2num = {c: i for i, c in enumerate(train['primaryPositionName'].unique())}\n",
        "teamid2num = {c: i for i, c in enumerate(train['teamId'].unique())}\n",
        "status2num = {c: i for i, c in enumerate(train['status'].unique())}\n",
        "streakCode2num = {c: i for i, c in enumerate(train['streakCode'].unique())}\n",
        "awardId2num = {c: i for i, c in enumerate(train['awardId'].unique())}\n",
        "\n",
        "train['label_playerId'] = train['playerId'].map(player2num)\n",
        "train['label_primaryPositionName'] = train['primaryPositionName'].map(position2num)\n",
        "train['label_teamId'] = train['teamId'].map(teamid2num)\n",
        "train['label_status'] = train['status'].map(status2num)\n",
        "train['label_streakCode'] = train['streakCode'].map(streakCode2num)\n",
        "train['label_awardId'] = train['awardId'].map(awardId2num)\n",
        "\n",
        "\n",
        "# feature engineering\n",
        "train['DOB'] = pd.to_datetime(train['DOB'])\n",
        "train['isBirthday'] = train['date'] % 1000 == train['DOB'].dt.month * 100 + train['DOB'].dt.day\n",
        "\n",
        "# train.drop('_date', axis=1, inplace=True)"
      ],
      "execution_count": 13,
      "outputs": []
    },
    {
      "cell_type": "code",
      "metadata": {
        "id": "KhFQ95Pf7C8H"
      },
      "source": [
        "train_X = train[feature_cols]\n",
        "train_y = train[['target1', 'target2', 'target3', 'target4']]\n",
        "\n",
        "# _index = (train['date'] < 20210301)\n",
        "x_train = train_X.loc[train['date'] < 20210301].reset_index(drop=True)\n",
        "y_train = train_y.loc[train['date'] < 20210301].reset_index(drop=True)\n",
        "x_valid = train_X.loc[(train['date'] >= 20210301) & (train['date'] < 20210401)].reset_index(drop=True)\n",
        "y_valid = train_y.loc[(train['date'] >= 20210301) & (train['date'] < 20210401)].reset_index(drop=True)\n"
      ],
      "execution_count": 14,
      "outputs": []
    },
    {
      "cell_type": "code",
      "metadata": {
        "colab": {
          "base_uri": "https://localhost:8080/"
        },
        "id": "e42hLsBA1IKj",
        "outputId": "cae221d9-b79f-4ab2-9fbf-0d77f3df78ab"
      },
      "source": [
        "gc.collect()"
      ],
      "execution_count": 15,
      "outputs": [
        {
          "output_type": "execute_result",
          "data": {
            "text/plain": [
              "163"
            ]
          },
          "metadata": {
            "tags": []
          },
          "execution_count": 15
        }
      ]
    },
    {
      "cell_type": "code",
      "metadata": {
        "colab": {
          "base_uri": "https://localhost:8080/"
        },
        "id": "eRsqxwgd7C8I",
        "outputId": "e4c81662-facf-457e-f2e6-4a64a7f05621"
      },
      "source": [
        "%%time\n",
        "def fit_lgbm(x_train, y_train, x_valid, y_valid, params: dict=None, verbose=100):\n",
        "    oof_pred = np.zeros(len(y_valid), dtype=np.float32)\n",
        "    model = lgbm.LGBMRegressor(**params)\n",
        "    model.fit(x_train, y_train, \n",
        "        eval_set=[(x_valid, y_valid)],  \n",
        "        early_stopping_rounds=verbose, \n",
        "        verbose=verbose)\n",
        "    oof_pred = model.predict(x_valid)\n",
        "    score = mean_absolute_error(oof_pred, y_valid)\n",
        "    print('mae:', score)\n",
        "    return oof_pred, model, score\n",
        "\n",
        "\n",
        "# training lightgbm\n",
        "params = {\n",
        " 'objective':'mae',\n",
        " 'reg_alpha': 0.1,\n",
        " 'reg_lambda': 0.1, \n",
        " 'n_estimators': 50000,\n",
        " 'learning_rate': 0.1,\n",
        " 'random_state': 42,\n",
        "#  'device': 'gpu',\n",
        "}\n",
        "\n",
        "oof1, model1, score1 = fit_lgbm(\n",
        "    x_train, y_train['target1'],\n",
        "    x_valid, y_valid['target1'],\n",
        "    params\n",
        ")\n",
        "oof2, model2, score2 = fit_lgbm(\n",
        "    x_train, y_train['target2'],\n",
        "    x_valid, y_valid['target2'],\n",
        "    params\n",
        ")\n",
        "oof3, model3, score3 = fit_lgbm(\n",
        "    x_train, y_train['target3'],\n",
        "    x_valid, y_valid['target3'],\n",
        "    params\n",
        ")\n",
        "oof4, model4, score4 = fit_lgbm(\n",
        "    x_train, y_train['target4'],\n",
        "    x_valid, y_valid['target4'],\n",
        "    params\n",
        ")\n",
        "\n",
        "score = (score1+score2+score3+score4) / 4\n",
        "print(f'score: {score}')"
      ],
      "execution_count": 16,
      "outputs": [
        {
          "output_type": "stream",
          "text": [
            "Training until validation scores don't improve for 100 rounds.\n",
            "[100]\tvalid_0's l1: 0.932687\n",
            "Early stopping, best iteration is:\n",
            "[70]\tvalid_0's l1: 0.932675\n",
            "mae: 0.932675216396163\n",
            "Training until validation scores don't improve for 100 rounds.\n",
            "[100]\tvalid_0's l1: 2.74404\n",
            "[200]\tvalid_0's l1: 2.73599\n",
            "[300]\tvalid_0's l1: 2.73146\n",
            "[400]\tvalid_0's l1: 2.73415\n",
            "Early stopping, best iteration is:\n",
            "[358]\tvalid_0's l1: 2.72921\n",
            "mae: 2.729212651596602\n",
            "Training until validation scores don't improve for 100 rounds.\n",
            "[100]\tvalid_0's l1: 0.966804\n",
            "Early stopping, best iteration is:\n",
            "[45]\tvalid_0's l1: 0.966445\n",
            "mae: 0.9664449900812179\n",
            "Training until validation scores don't improve for 100 rounds.\n",
            "[100]\tvalid_0's l1: 1.86007\n",
            "[200]\tvalid_0's l1: 1.83072\n",
            "[300]\tvalid_0's l1: 1.82083\n",
            "[400]\tvalid_0's l1: 1.8114\n",
            "[500]\tvalid_0's l1: 1.80428\n",
            "[600]\tvalid_0's l1: 1.79717\n",
            "[700]\tvalid_0's l1: 1.79106\n",
            "[800]\tvalid_0's l1: 1.78871\n",
            "[900]\tvalid_0's l1: 1.78379\n",
            "[1000]\tvalid_0's l1: 1.78139\n",
            "[1100]\tvalid_0's l1: 1.78091\n",
            "[1200]\tvalid_0's l1: 1.78069\n",
            "Early stopping, best iteration is:\n",
            "[1160]\tvalid_0's l1: 1.78024\n",
            "mae: 1.7802424911372403\n",
            "score: 1.6021438373028059\n",
            "CPU times: user 1h 9min 17s, sys: 33.9 s, total: 1h 9min 51s\n",
            "Wall time: 19min 27s\n"
          ],
          "name": "stdout"
        }
      ]
    },
    {
      "cell_type": "code",
      "metadata": {
        "id": "Hs6QdeJ_NvUE"
      },
      "source": [
        ""
      ],
      "execution_count": 16,
      "outputs": []
    },
    {
      "cell_type": "code",
      "metadata": {
        "id": "wflA0r6L7C8L"
      },
      "source": [
        "class TestDataset(object):\n",
        "  def __init__(self, batch_size=5):\n",
        "    self.current = 0\n",
        "    self.batch_size = batch_size\n",
        "    _df = pd.read_csv(BASE_DIR/ 'train.csv')\n",
        "    self.df_test = _df[_df['date'] >= 20210401]\n",
        "\n",
        "  def __iter__(self):\n",
        "    return self\n",
        "\n",
        "  def __next__(self):\n",
        "    start = self.current * self.batch_size\n",
        "    end = (self.current + 1) * self.batch_size\n",
        "    self.current += 1\n",
        "\n",
        "    if start >= self.df_test.shape[0]:\n",
        "      raise StopIteration()\n",
        "\n",
        "    # df_example_test\n",
        "    df_example_test = self.df_test[start:end].drop('nextDayPlayerEngagement', axis=1)\n",
        "    df_example_test.set_index('date', inplace=True)\n",
        "\n",
        "    # df_example_sample_submission\n",
        "    df_example_sample_submission = pd.DataFrame()\n",
        "    for index, row in self.df_test[start:end].iterrows():\n",
        "        _date = row.date\n",
        "        _nextDayPlayerEngagement = pd.DataFrame(eval(row.nextDayPlayerEngagement))\n",
        "        _nextDayPlayerEngagement['date'] = _date\n",
        "        df_example_sample_submission = pd.concat([df_example_sample_submission, _nextDayPlayerEngagement], axis=0)\n",
        "    df_example_sample_submission['date_playerId'] = df_example_sample_submission['engagementMetricsDate'].str.replace('-', '') + '_' + df_example_sample_submission['playerId'].astype(str)\n",
        "    df_example_sample_submission.drop(['engagementMetricsDate', 'playerId'], axis=1, inplace=True)\n",
        "    df_example_sample_submission.target1 = 0.0\n",
        "    df_example_sample_submission.target2 = 0.0\n",
        "    df_example_sample_submission.target3 = 0.0\n",
        "    df_example_sample_submission.target4 = 0.0\n",
        "    df_example_sample_submission.set_index('date', inplace=True)\n",
        "    df_example_sample_submission = df_example_sample_submission[['date_playerId','target1','target2','target3','target4']]\n",
        "    \n",
        "    return df_example_test, df_example_sample_submission\n",
        "\n"
      ],
      "execution_count": 17,
      "outputs": []
    },
    {
      "cell_type": "code",
      "metadata": {
        "id": "Le0IqZ5AZGVk"
      },
      "source": [
        "if 'kaggle_secrets' in sys.modules:  # only run while on Kaggle\n",
        "    import mlb\n",
        "    env = mlb.make_env() # initialize the environment\n",
        "    iter_test = env.iter_test() # iterator which loops over each date in test set\n",
        "else:\n",
        "    iter_test = TestDataset()"
      ],
      "execution_count": 18,
      "outputs": []
    },
    {
      "cell_type": "code",
      "metadata": {
        "id": "d7X7UcE7e1NF"
      },
      "source": [
        "# null = np.nan\n",
        "# true = True\n",
        "# false = False\n",
        "# test_df, _ = next(iter_test)"
      ],
      "execution_count": 19,
      "outputs": []
    },
    {
      "cell_type": "code",
      "metadata": {
        "id": "PQBQLhlbfIBK"
      },
      "source": [
        "# test_df.awards.iloc[3]"
      ],
      "execution_count": 20,
      "outputs": []
    },
    {
      "cell_type": "code",
      "metadata": {
        "id": "DXLVzOVl7C8J"
      },
      "source": [
        "players_cols = ['playerId', 'primaryPositionName', 'DOB']\n",
        "rosters_cols = ['playerId', 'teamId', 'status']\n",
        "scores_cols = ['playerId', 'battingOrder', 'gamesPlayedBatting', 'flyOuts',\n",
        "       'groundOuts', 'runsScored', 'doubles', 'triples', 'homeRuns',\n",
        "       'strikeOuts', 'baseOnBalls', 'intentionalWalks', 'hits', 'hitByPitch',\n",
        "       'atBats', 'caughtStealing', 'stolenBases', 'groundIntoDoublePlay',\n",
        "       'groundIntoTriplePlay', 'plateAppearances', 'totalBases', 'rbi',\n",
        "       'leftOnBase', 'sacBunts', 'sacFlies', 'catchersInterference',\n",
        "       'pickoffs', 'gamesPlayedPitching', 'gamesStartedPitching',\n",
        "       'completeGamesPitching', 'shutoutsPitching', 'winsPitching',\n",
        "       'lossesPitching', 'flyOutsPitching', 'airOutsPitching',\n",
        "       'groundOutsPitching', 'runsPitching', 'doublesPitching',\n",
        "       'triplesPitching', 'homeRunsPitching', 'strikeOutsPitching',\n",
        "       'baseOnBallsPitching', 'intentionalWalksPitching', 'hitsPitching',\n",
        "       'hitByPitchPitching', 'atBatsPitching', 'caughtStealingPitching',\n",
        "       'stolenBasesPitching', 'inningsPitched', 'saveOpportunities',\n",
        "       'earnedRuns', 'battersFaced', 'outsPitching', 'pitchesThrown', 'balls',\n",
        "       'strikes', 'hitBatsmen', 'balks', 'wildPitches', 'pickoffsPitching',\n",
        "       'rbiPitching', 'gamesFinishedPitching', 'inheritedRunners',\n",
        "       'inheritedRunnersScored', 'catchersInterferencePitching',\n",
        "       'sacBuntsPitching', 'sacFliesPitching', 'saves', 'holds', 'blownSaves',\n",
        "       'assists', 'putOuts', 'errors', 'chances']\n",
        "\n",
        "null = np.nan\n",
        "true = True\n",
        "false = False\n",
        "\n",
        "for (test_df, sample_prediction_df) in iter_test: # make predictions here\n",
        "    \n",
        "    sample_prediction_df = sample_prediction_df.reset_index(drop=True)\n",
        "    \n",
        "    # creat dataset\n",
        "    sample_prediction_df['date'] = sample_prediction_df['date_playerId']\\\n",
        "                                        .map(lambda x: int(x.split('_')[0]))\n",
        "    sample_prediction_df['playerId'] = sample_prediction_df['date_playerId']\\\n",
        "                                        .map(lambda x: int(x.split('_')[1]))\n",
        "\n",
        "    # Dealing with missing values\n",
        "    if test_df['rosters'].iloc[0] == test_df['rosters'].iloc[0]:\n",
        "        test_rosters = pd.DataFrame(eval(test_df['rosters'].iloc[0]))\n",
        "    else:\n",
        "        test_rosters = pd.DataFrame({'playerId': sample_prediction_df['playerId']})\n",
        "        for col in rosters.columns:\n",
        "            if col == 'playerId': continue\n",
        "            test_rosters[col] = np.nan\n",
        "            \n",
        "    if test_df['playerBoxScores'].iloc[0] == test_df['playerBoxScores'].iloc[0]:\n",
        "        test_scores = pd.DataFrame(eval(test_df['playerBoxScores'].iloc[0]))\n",
        "    else:\n",
        "        test_scores = pd.DataFrame({'playerId': sample_prediction_df['playerId']})\n",
        "        for col in scores.columns:\n",
        "            if col == 'playerId': continue\n",
        "            test_scores[col] = np.nan\n",
        "    test_scores = test_scores.groupby('playerId').sum().reset_index()\n",
        "    test = sample_prediction_df[['playerId', 'date']].copy()\n",
        "    test = test.merge(players[players_cols], on='playerId', how='left')\n",
        "    test = test.merge(test_rosters[rosters_cols], on='playerId', how='left')\n",
        "    test = test.merge(test_scores[scores_cols], on='playerId', how='left')\n",
        "\n",
        "    test['label_playerId'] = test['playerId'].map(player2num)\n",
        "    test['label_primaryPositionName'] = test['primaryPositionName'].map(position2num)\n",
        "    test['label_teamId'] = test['teamId'].map(teamid2num)\n",
        "    test['label_status'] = test['status'].map(status2num)\n",
        "\n",
        "    # Update playerFollowers, teamFollowers, standings\n",
        "    for index, row in test_df.iterrows():\n",
        "        if row.playerTwitterFollowers == row.playerTwitterFollowers:\n",
        "            _df = pd.DataFrame(eval(row.playerTwitterFollowers)).copy()\n",
        "            _df['date'] = pd.to_datetime(_df['date'])\n",
        "            _df['date'] = _df['date'].map(lambda x: x.year*10000+ x.month * 100 + x.day)\n",
        "            playerFollowers = pd.concat([playerFollowers, _df],axis=0)\n",
        "            playerFollowers.reset_index(drop=True)\n",
        "            del _df\n",
        "\n",
        "        if row.teamTwitterFollowers == row.teamTwitterFollowers:\n",
        "            _df = pd.DataFrame(eval(row.teamTwitterFollowers)).copy()\n",
        "            _df['date'] = pd.to_datetime(_df['date'])\n",
        "            _df['date'] = _df['date'].map(lambda x: x.year*10000+ x.month * 100 + x.day)\n",
        "            teamFollowers = pd.concat([teamFollowers, _df],axis=0)\n",
        "            teamFollowers.reset_index(drop=True)\n",
        "            del _df\n",
        "        \n",
        "        if row['standings'] == row['standings']:\n",
        "            _standings = pd.DataFrame(eval(row['standings'])).copy()\n",
        "            _standings['date'] = _standings['gameDate'].str.replace('-', '',-1).astype(int)\n",
        "            _standings['pct'] = _standings['pct'].astype(float)\n",
        "            _standings['wildCardLeader'] = _standings['wildCardLeader'].map(lambda x: x == 'True')\n",
        "            _standings['eliminationNumber'] = pd.to_numeric(_standings['eliminationNumber'], errors='coerce')\n",
        "            _standings['wildCardEliminationNumber'] = pd.to_numeric(_standings['wildCardEliminationNumber'], errors='coerce')\n",
        "            _standings['divisionRank'] = pd.to_numeric(_standings['divisionRank'], errors='coerce')\n",
        "            _standings['leagueRank'] = pd.to_numeric(_standings['leagueRank'], errors='coerce')\n",
        "            _standings['wildCardRank'] = pd.to_numeric(_standings['wildCardRank'], errors='coerce')\n",
        "            _standings['leagueGamesBack'] = pd.to_numeric(_standings['leagueGamesBack'], errors='coerce')\n",
        "            _standings['sportGamesBack'] = pd.to_numeric(_standings['sportGamesBack'], errors='coerce')\n",
        "            _standings['divisionGamesBack'] = pd.to_numeric(_standings['divisionGamesBack'], errors='coerce')\n",
        "            _standings['divisionChamp'] =  _standings['divisionChamp'].map(lambda x: 1 if x else 0)\n",
        "            _standings['divisionLeader'] = _standings['divisionLeader'].map(lambda x: 1 if x else 0)\n",
        "            _standings['wildCardLeader'] = _standings['wildCardLeader'].map(lambda x: 1 if x else 0)\n",
        "            standings = pd.concat([standings, _standings],axis=0)\n",
        "            del _standings\n",
        "\n",
        "        if row['awards'] == row['awards']:\n",
        "            _awards = pd.DataFrame(eval(row['awards'])).copy()\n",
        "            _awards['date'] = _awards['awardDate'].str.replace('-', '',-1).astype(int)\n",
        "            awards = pd.concat([awards, _awards],axis=0)\n",
        "\n",
        "    test['_date'] = pd.to_datetime(test['date'].astype(str))\n",
        "    test['year'] = test['_date'].dt.year\n",
        "    test['month'] = test['_date'].dt.month\n",
        "    test['day'] = test['_date'].dt.day\n",
        "    test['dayofweek'] = test['_date'].dt.dayofweek\n",
        "\n",
        "    # merge folowers\n",
        "    test['date_ym'] = test['date'] // 100\n",
        "    playerFollowers['date_ym'] = playerFollowers['date'] // 100\n",
        "    playerFollowers['playerFollowers'] = playerFollowers['numberOfFollowers']\n",
        "    test = test.merge(playerFollowers[['playerId', 'date_ym', 'playerFollowers']], on=['playerId', 'date_ym'], how='left')\n",
        "    playerFollowers.drop(['date_ym', 'playerFollowers'], axis=1, inplace=True)\n",
        "\n",
        "    teamFollowers['date_ym'] = teamFollowers['date'] // 100\n",
        "    teamFollowers['teamFollowers'] = teamFollowers['numberOfFollowers']\n",
        "    test = test.merge(teamFollowers[['teamId', 'date_ym', 'teamFollowers']], on=['teamId', 'date_ym'], how='left')\n",
        "    teamFollowers.drop(['date_ym', 'teamFollowers'], axis=1, inplace=True)\n",
        "\n",
        "    # merge season\n",
        "    test['preSeason'] = False\n",
        "    test['regularSeason'] = False\n",
        "    test['1stHalf'] = False\n",
        "    test['2ndHalf'] = False\n",
        "    test['allStar'] = False\n",
        "    test['postSeason'] = False\n",
        "    for _, row in seasons.iterrows():\n",
        "        test['preSeason'] = test['preSeason'] | ((row['preSeasonStartDate'] <=  test['_date']) & (test['_date'] <= row['preSeasonEndDate']))\n",
        "        test['regularSeason'] = test['regularSeason'] | ((row['regularSeasonStartDate'] <=  test['_date']) & (test['_date'] <= row['regularSeasonEndDate']))\n",
        "        test['1stHalf'] = test['1stHalf'] | ((row['regularSeasonStartDate'] <=  test['_date']) & (test['_date'] <= row['lastDate1stHalf']))\n",
        "        test['2ndHalf'] = test['2ndHalf'] | ((row['firstDate2ndHalf'] <=  test['_date']) & (test['_date'] <= row['regularSeasonEndDate']))\n",
        "        test['allStar'] = test['allStar'] | (row['allStarDate'] ==  test['_date'])\n",
        "        test['postSeason'] = test['postSeason'] | ((row['postSeasonStartDate'] <=  test['_date']) & (test['_date'] <= row['postSeasonEndDate']))\n",
        "\n",
        "    # merge standings\n",
        "    _standings = standings[standings_cols].copy()\n",
        "    _standings['_date'] = pd.to_datetime(standings['date'].astype(str))\n",
        "    test = test.merge(_standings, on=['teamId', '_date'], how='left')\n",
        "    del _standings\n",
        "    test['label_streakCode'] = test['streakCode'].map(streakCode2num)\n",
        "\n",
        "    # merge awards\n",
        "    _awards = awards[awards_cols].copy()\n",
        "    _awards['_date'] = pd.to_datetime(awards['date'].astype(str))\n",
        "    _awards.drop_duplicates(subset = ['playerId', '_date'] ,keep='first', inplace=True)\n",
        "    test = test.merge(_awards, on=['playerId', '_date'], how='left')\n",
        "    # del _awards\n",
        "    test['label_awardId'] = test['awardId'].map(awardId2num)\n",
        "\n",
        "\n",
        "\n",
        "    # drop _date\n",
        "    test.drop('_date', axis=1, inplace=True)\n",
        "\n",
        "    # feature engineering\n",
        "    test['DOB'] = pd.to_datetime(test['DOB'])\n",
        "    test['isBirthday'] = test['date'] % 1000 == test['DOB'].dt.month * 100 + test['DOB'].dt.day\n",
        "    \n",
        "    test_X = test[feature_cols]\n",
        "    \n",
        "    # predict\n",
        "    pred1 = model1.predict(test_X)\n",
        "    pred2 = model2.predict(test_X)\n",
        "    pred3 = model3.predict(test_X)\n",
        "    pred4 = model4.predict(test_X)\n",
        "    \n",
        "    # merge submission\n",
        "    sample_prediction_df['target1'] = np.clip(pred1, 0, 100)\n",
        "    sample_prediction_df['target2'] = np.clip(pred2, 0, 100)\n",
        "    sample_prediction_df['target3'] = np.clip(pred3, 0, 100)\n",
        "    sample_prediction_df['target4'] = np.clip(pred4, 0, 100)\n",
        "    sample_prediction_df = sample_prediction_df.fillna(0.)\n",
        "    sample_prediction_df.drop(['playerId', 'date'], axis=1, inplace=True)\n",
        "    \n",
        "    if 'kaggle_secrets' in sys.modules:\n",
        "        env.predict(sample_prediction_df)\n",
        "    "
      ],
      "execution_count": 21,
      "outputs": []
    },
    {
      "cell_type": "code",
      "metadata": {
        "id": "CCbP6VEMLTr0"
      },
      "source": [
        ""
      ],
      "execution_count": null,
      "outputs": []
    },
    {
      "cell_type": "code",
      "metadata": {
        "id": "NZC3-xTbLTo6"
      },
      "source": [
        ""
      ],
      "execution_count": null,
      "outputs": []
    },
    {
      "cell_type": "code",
      "metadata": {
        "id": "e2rCeDT19ttL",
        "colab": {
          "base_uri": "https://localhost:8080/",
          "height": 1000
        },
        "outputId": "9ec9da5f-8d18-44a0-85e3-031e5731c5c7"
      },
      "source": [
        "%matplotlib inline\n",
        "import matplotlib.pyplot as plt\n",
        "import seaborn as sns\n",
        "models = [model1, model2, model3, model4]\n",
        "\n",
        "fig, axes = plt.subplots(2, 2, figsize=(20,20))\n",
        "plt.subplots_adjust(wspace=0.4)\n",
        "for i, model in enumerate(models):\n",
        "    \n",
        "    data = pd.DataFrame({'importance': model.feature_importances_, 'feature': feature_cols}).sort_values('importance', ascending = False)[0:30]\n",
        "\n",
        "    ax = axes[ i // 2, i % 2]\n",
        "    ax.yaxis.label.set_visible(False)\n",
        "    ax.set_title('target' + str(i+1))\n",
        "    \n",
        "    sns.barplot(x='importance', y='feature', data=data, ax=ax)\n",
        "\n",
        "plt.savefig(OUTPUT_DIR / 'feature_importance.png')\n"
      ],
      "execution_count": 27,
      "outputs": [
        {
          "output_type": "display_data",
          "data": {
            "image/png": "[encoded data removed]",
            "text/plain": [
              "<Figure size 1440x1440 with 4 Axes>"
            ]
          },
          "metadata": {
            "tags": [],
            "needs_background": "light"
          }
        }
      ]
    },
    {
      "cell_type": "code",
      "metadata": {
        "colab": {
          "base_uri": "https://localhost:8080/"
        },
        "id": "I7zxy77NJMHJ",
        "outputId": "d7d318fc-4ff8-488b-b264-9a7c7a4bd26e"
      },
      "source": [
        "# top50 importances\n",
        "top_features = []\n",
        "for i, model in enumerate(models):\n",
        "    data = pd.DataFrame({'importance': model.feature_importances_, 'feature': feature_cols}).sort_values('importance', ascending = False)[0:50]\n",
        "    top_features += data.feature.to_list()\n",
        "top_features = list(set(top_features))\n",
        "np.array(top_features)"
      ],
      "execution_count": 28,
      "outputs": [
        {
          "output_type": "execute_result",
          "data": {
            "text/plain": [
              "array(['atBats', 'intentionalWalks', 'awayLosses', 'divisionLeader',\n",
              "       'label_awardId', 'turfWins', 'nlWins', 'preSeason', 'divisionId',\n",
              "       'nlLosses', 'baseOnBalls', 'xWinLossPct', 'homeRuns', 'homeWins',\n",
              "       'strikeOutsPitching', '1stHalf', 'label_streakCode',\n",
              "       'wildCardRank', 'homeLosses', 'leagueGamesBack', 'alWins',\n",
              "       'lastTenWins', 'postSeason', 'divWins', 'runsAllowed',\n",
              "       'hitByPitch', 'extraInningLosses', 'playerFollowers', 'grassWins',\n",
              "       'alLosses', 'assists', 'leftOnBase', 'turfLosses',\n",
              "       'wildCardEliminationNumber', 'divisionGamesBack', 'oneRunLosses',\n",
              "       'saves', 'allStar', 'divisionChamp', 'nightLosses', 'wins',\n",
              "       'totalBases', 'eliminationNumber', 'losses', 'regularSeason',\n",
              "       'label_primaryPositionName', 'dayWins', 'dayLosses', 'oneRunWins',\n",
              "       'extraInningWins', 'stolenBases', '2ndHalf', 'plateAppearances',\n",
              "       'nightWins', 'grassLosses', 'sportGamesBack', 'label_playerId',\n",
              "       'awayWins', 'caughtStealing', 'hits', 'saveOpportunities',\n",
              "       'battersFaced', 'inningsPitched', 'battingOrder', 'label_teamId',\n",
              "       'divLosses', 'inheritedRunners', 'gamesStartedPitching',\n",
              "       'wildCardLeader', 'rbi', 'shutoutsPitching', 'pitchesThrown',\n",
              "       'teamFollowers', 'label_status', 'homeRunsPitching',\n",
              "       'divisionRank', 'winsPitching', 'leagueRank', 'pct'], dtype='<U25')"
            ]
          },
          "metadata": {
            "tags": []
          },
          "execution_count": 28
        }
      ]
    },
    {
      "cell_type": "code",
      "metadata": {
        "colab": {
          "base_uri": "https://localhost:8080/"
        },
        "id": "21ciJ9VwL42F",
        "outputId": "22484d1d-76c5-4c9c-c5a3-93407befad89"
      },
      "source": [
        "len(top_features)"
      ],
      "execution_count": 29,
      "outputs": [
        {
          "output_type": "execute_result",
          "data": {
            "text/plain": [
              "79"
            ]
          },
          "metadata": {
            "tags": []
          },
          "execution_count": 29
        }
      ]
    },
    {
      "cell_type": "code",
      "metadata": {
        "id": "BshZxiN2zgdQ"
      },
      "source": [
        "# 0/0"
      ],
      "execution_count": 31,
      "outputs": []
    },
    {
      "cell_type": "markdown",
      "metadata": {
        "id": "04d0y57ryKsH"
      },
      "source": [
        "# save mlflow"
      ]
    },
    {
      "cell_type": "code",
      "metadata": {
        "id": "y2WXnSwmCQCk",
        "colab": {
          "base_uri": "https://localhost:8080/"
        },
        "outputId": "d2fb49ba-62b1-49cc-9948-572e74f5283f"
      },
      "source": [
        "if 'google.colab' in sys.modules:\n",
        "    import os\n",
        "\n",
        "    try:\n",
        "        from google.colab import auth\n",
        "        auth.authenticate_user()\n",
        "    except ImportError:\n",
        "        pass\n",
        "\n",
        "    REPOSITORY_NAME = 'kaggleops-tutorial'\n",
        "    PROJECT_ID = 'mlb-project-317407'\n",
        "    BUCKET_NAME = 'mlb-bucket'\n",
        "\n",
        "    os.environ[\"GCLOUD_PROJECT\"] = PROJECT_ID\n",
        "\n",
        "    from google.cloud import storage\n",
        "    storage_client = storage.Client(project=PROJECT_ID)\n",
        "    !rm -rf {REPOSITORY_NAME}\n",
        "    !git clone https://github.com/yuooka/{REPOSITORY_NAME}.git\n",
        "    !pip install -qr ./{REPOSITORY_NAME}/requirements.txt\n",
        "    # cd ./{REPOSITORY_NAME}/src\n",
        "    !gcloud config set project {PROJECT_ID}\n",
        "    # !gsutil -mq cp -rn gs://{BUCKET_NAME}/mlruns /content/{BUCKET_NAME}/src\n",
        "\n",
        "    blobs = storage_client.list_blobs(BUCKET_NAME)\n",
        "    for blob in blobs:\n",
        "        filepath = blob.name\n",
        "        if filepath[:7]==\"mlruns/\" and len(filepath)!=7:\n",
        "            os.makedirs(\"/\".join(filepath.split(\"/\")[:-1]), exist_ok=True)\n",
        "            blob.download_to_filename(filepath)"
      ],
      "execution_count": 32,
      "outputs": [
        {
          "output_type": "stream",
          "text": [
            "Cloning into 'kaggleops-tutorial'...\n",
            "remote: Enumerating objects: 69, done.\u001b[K\n",
            "remote: Counting objects: 100% (69/69), done.\u001b[K\n",
            "remote: Compressing objects: 100% (52/52), done.\u001b[K\n",
            "remote: Total 69 (delta 22), reused 59 (delta 12), pack-reused 0\u001b[K\n",
            "Unpacking objects: 100% (69/69), done.\n",
            "\u001b[K     |████████████████████████████████| 12.0MB 3.8MB/s \n",
            "\u001b[K     |████████████████████████████████| 573kB 38.5MB/s \n",
            "\u001b[K     |████████████████████████████████| 6.0MB 30.8MB/s \n",
            "\u001b[K     |████████████████████████████████| 348kB 41.9MB/s \n",
            "\u001b[K     |████████████████████████████████| 153kB 53.4MB/s \n",
            "\u001b[K     |████████████████████████████████| 174kB 50.9MB/s \n",
            "\u001b[K     |████████████████████████████████| 61kB 7.4MB/s \n",
            "\u001b[K     |████████████████████████████████| 81kB 1.5MB/s \n",
            "\u001b[K     |████████████████████████████████| 174kB 35.6MB/s \n",
            "\u001b[K     |████████████████████████████████| 5.6MB 18.7MB/s \n",
            "\u001b[K     |████████████████████████████████| 901kB 50.4MB/s \n",
            "\u001b[K     |████████████████████████████████| 133kB 51.4MB/s \n",
            "\u001b[K     |████████████████████████████████| 1.2MB 30.8MB/s \n",
            "\u001b[K     |████████████████████████████████| 92kB 9.0MB/s \n",
            "\u001b[K     |████████████████████████████████| 143kB 50.3MB/s \n",
            "\u001b[K     |████████████████████████████████| 3.2MB 30.0MB/s \n",
            "\u001b[K     |████████████████████████████████| 71kB 8.0MB/s \n",
            "\u001b[K     |████████████████████████████████| 71kB 7.4MB/s \n",
            "\u001b[K     |████████████████████████████████| 81kB 8.8MB/s \n",
            "\u001b[K     |████████████████████████████████| 81kB 9.4MB/s \n",
            "\u001b[K     |████████████████████████████████| 7.6MB 27.2MB/s \n",
            "\u001b[K     |████████████████████████████████| 51kB 5.9MB/s \n",
            "\u001b[?25h  Building wheel for torchcontrib (setup.py) ... \u001b[?25l\u001b[?25hdone\n",
            "  Building wheel for sqlalchemy (setup.py) ... \u001b[?25l\u001b[?25hdone\n",
            "  Building wheel for databricks-cli (setup.py) ... \u001b[?25l\u001b[?25hdone\n",
            "  Building wheel for prometheus-flask-exporter (setup.py) ... \u001b[?25l\u001b[?25hdone\n",
            "\u001b[31mERROR: botocore 1.20.98 has requirement urllib3<1.27,>=1.25.4, but you'll have urllib3 1.24.3 which is incompatible.\u001b[0m\n",
            "Updated property [core/project].\n"
          ],
          "name": "stdout"
        }
      ]
    },
    {
      "cell_type": "code",
      "metadata": {
        "id": "rg8RdES9tRV_",
        "colab": {
          "base_uri": "https://localhost:8080/"
        },
        "outputId": "799b3764-e2ee-4d5c-f16a-62a0c8603e64"
      },
      "source": [
        "if 'google.colab' in sys.modules:\n",
        "    import mlflow\n",
        "    mlflow.start_run()\n",
        "    mlflow.log_param(\"feature_cols\", feature_cols)\n",
        "    mlflow.log_param(\"params\", params)\n",
        "    mlflow.log_param(\"top_features\", top_features)\n",
        "    mlflow.log_metric('score', score)\n",
        "    mlflow.log_metric('score1', score1)\n",
        "    mlflow.log_metric('score2', score2)\n",
        "    mlflow.log_metric('score3', score3)\n",
        "    mlflow.log_metric('score4', score4)\n",
        "    for i, model in enumerate(models):\n",
        "        mlflow.log_param('feature_importance_' + str(i+1), model.feature_importances_)\n",
        "    mlflow.log_artifact(OUTPUT_DIR / 'feature_importance.png')\n",
        "    mlflow.end_run()"
      ],
      "execution_count": 33,
      "outputs": [
        {
          "output_type": "stream",
          "text": [
            "/usr/local/lib/python3.7/dist-packages/yaml/constructor.py:126: DeprecationWarning: Using or importing the ABCs from 'collections' instead of from 'collections.abc' is deprecated since Python 3.3,and in 3.9 it will stop working\n",
            "  if not isinstance(key, collections.Hashable):\n"
          ],
          "name": "stderr"
        }
      ]
    },
    {
      "cell_type": "code",
      "metadata": {
        "id": "_w_3zhHKCRtx",
        "colab": {
          "base_uri": "https://localhost:8080/"
        },
        "outputId": "01e1ff18-e5f5-4b74-82f1-46e301819113"
      },
      "source": [
        "if 'google.colab' in sys.modules:\n",
        "    !python ./{REPOSITORY_NAME}/src/mlproject.py\n",
        "    # !gsutil -mq cp -rn /content/{REPOSITORY_NAME}/src/mlruns gs://{BUCKET_NAME}\n",
        "\n",
        "    import glob\n",
        "\n",
        "    files = [f for f in glob.glob(\"mlruns/**\", recursive=True) if f[:7]==\"mlruns/\" and len(f)!=7]\n",
        "    files_in_bucket = [f.name for f in storage_client.list_blobs(BUCKET_NAME)]\n",
        "    bucket = storage_client.get_bucket(BUCKET_NAME)\n",
        "\n",
        "    for f in files:\n",
        "        try:\n",
        "            if f not in files_in_bucket:\n",
        "                blob = bucket.blob(f)\n",
        "                blob.upload_from_filename(f)\n",
        "        except:\n",
        "            pass"
      ],
      "execution_count": 34,
      "outputs": [
        {
          "output_type": "stream",
          "text": [
            "/usr/local/lib/python3.7/dist-packages/yaml/constructor.py:126: DeprecationWarning: Using or importing the ABCs from 'collections' instead of from 'collections.abc' is deprecated since Python 3.3,and in 3.9 it will stop working\n",
            "  if not isinstance(key, collections.Hashable):\n",
            "Traceback (most recent call last):\n",
            "  File \"./kaggleops-tutorial/src/mlproject.py\", line 17, in <module>\n",
            "    exp_id = client.create_experiment(config['experiment_name'], artifact_location=f\"gs://{config['bucket_name']}/artifacts\")\n",
            "  File \"/usr/local/lib/python3.7/dist-packages/mlflow/tracking/client.py\", line 161, in create_experiment\n",
            "    return self._tracking_client.create_experiment(name, artifact_location)\n",
            "  File \"/usr/local/lib/python3.7/dist-packages/mlflow/tracking/_tracking_service/client.py\", line 128, in create_experiment\n",
            "    artifact_location=artifact_location,\n",
            "  File \"/usr/local/lib/python3.7/dist-packages/mlflow/store/tracking/file_store.py\", line 239, in create_experiment\n",
            "    self._validate_experiment_name(name)\n",
            "  File \"/usr/local/lib/python3.7/dist-packages/mlflow/store/tracking/file_store.py\", line 235, in _validate_experiment_name\n",
            "    databricks_pb2.RESOURCE_ALREADY_EXISTS)\n",
            "mlflow.exceptions.MlflowException: Experiment 'RoBERTaBase kaggle check' already exists.\n",
            "\n",
            "During handling of the above exception, another exception occurred:\n",
            "\n",
            "Traceback (most recent call last):\n",
            "  File \"./kaggleops-tutorial/src/mlproject.py\", line 22, in <module>\n",
            "    with open(filepath) as file:\n",
            "FileNotFoundError: [Errno 2] No such file or directory: '/content/kaggleops-tutorial/src/mlruns/1/meta.yaml'\n"
          ],
          "name": "stdout"
        }
      ]
    },
    {
      "cell_type": "code",
      "metadata": {
        "id": "m8CNz4lIzUjK"
      },
      "source": [
        ""
      ],
      "execution_count": null,
      "outputs": []
    }
  ]
}